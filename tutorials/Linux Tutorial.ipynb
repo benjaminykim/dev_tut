{
 "cells": [
  {
   "cell_type": "markdown",
   "metadata": {},
   "source": [
    "# Linux Tutorial\n",
    "\n",
    "This is a very brief introduction to system administration in Linux.\n",
    "\n",
    "Your terminal provides a command line interface that you can send commands to. In return, your system properties may change and you may receive information from the Standard Output of your Unix System.\n",
    "\n",
    "You are familiarized with a graphical version of this (which Apple popularized with their GUI).\n",
    "\n",
    "Let's begin."
   ]
  },
  {
   "cell_type": "markdown",
   "metadata": {},
   "source": [
    "## Baby Steps\n",
    "Open up your terminal. Currently, where are you in your file system?\n",
    "\n",
    "`pwd` = print working directory\n",
    "\n",
    "You should see the name of the directory you are in. It should resemble `/Users/user_name`. You are currently in your home directory.\n",
    "\n",
    "Let's see what is inside your home directory. How may we see the contents?\n",
    "\n",
    "`ls` = list\n",
    "\n",
    "You should see names of directories and files. To grab more information about these contents, lets use:\n",
    "\n",
    "`ls -al` = list (all long)\n",
    "\n",
    "We just configured the property of how we use the `ls` command by passing along some values `a` and `l` denoted by the flag `-`. Try just running `ls -a` and `ls -l` and see what happens.\n",
    "\n",
    "So how do we know what a command does and what options are available?\n",
    "\n",
    "* `type -m '*'` will display every available command available to your shell\n",
    "* `man <COMMAND>` will display the manual of the command passed as an argument.\n",
    "\n",
    "Let's quickly run `man cat` to learn more about that `cat` command we used previously."
   ]
  },
  {
   "cell_type": "markdown",
   "metadata": {},
   "source": [
    "## Integration with our .zshrc\n",
    "Now, we've tinkered with our .zshrc to make zshell easier to use. Let's see what's inside our .zshrc file once more by using cat. If we inspect our aliases, we can see that we've set up stuff equal to other stuff. Those are our shortcuts.\n",
    "\n",
    "Now instead of running `ls -al` everytime we want to see information about our files, we can use `ll` instead. It's much more concise and will save on time. This is made possible by the line `alias ll='ls -al`.\n",
    "\n",
    "What do you think `cd ..` does? And `cd ../..`?\n",
    "\n",
    "If you ever get lost in your system, remember that `pwd` shows you where you are, `cd <directory_path>` moves you to your destination, and `cd` alone will move you to your home directory."
   ]
  },
  {
   "cell_type": "markdown",
   "metadata": {},
   "source": [
    "## Jumping In\n",
    "\n",
    "Here's a bunch of commands. You have `man` now, and that guy knows everything. You also have google.\n",
    "* `ls` = list\n",
    "* `pwd` = print working directory\n",
    "* `clear` = clear terminal output\n",
    "* `cat` = concatenate or print a file\n",
    "* `rm` = remove a file\n",
    "* `mv` = move\n",
    "* `rm -rf` = force remove a file or directory and everything inside\n",
    "* `cp` = copy\n",
    "* `mkdir` = make a directory\n",
    "* `touch` = create a file\n",
    "* `ll` = lists everything\n",
    "* `lc` = clears screen and lists everything\n",
    "* `..` = change directory to the parent directory (outside folder)\n",
    "* `man` = RTFM (use `SHIFT + g + g` to exit `man` output)"
   ]
  },
  {
   "cell_type": "markdown",
   "metadata": {},
   "source": [
    "## File Structure\n",
    "\n",
    "Before we begin programming, let's create a reasonable file structure for our Python learning modules.\n",
    "\n",
    "* Home Directory\n",
    "  * code\n",
    "    * ex00\n",
    "    * ex01\n",
    "    * ex02\n",
    "    * ..\n",
    "\n",
    "\n",
    "* Let's create a directory named `code` in our home directory `mkdir code`\n",
    "* Let's create a subdirectory inside `code` called `ex00`. Run `cd code` and `mkdir ex00`. Or, you can run `mkdir code/ex00` \n",
    "* Create multiple directories by using `mkdir ex00 ex01 ex02`\n",
    "\n",
    "Training wheels are off now. All of our exercises, notebooks, projects, and git repositories will exist in our code directory. Resist the temptation to open this directory in `Finder`. If you absolutely need to access something in this directory, run `open .`."
   ]
  }
 ],
 "metadata": {
  "kernelspec": {
   "display_name": "Python 3",
   "language": "python",
   "name": "python3"
  },
  "language_info": {
   "codemirror_mode": {
    "name": "ipython",
    "version": 3
   },
   "file_extension": ".py",
   "mimetype": "text/x-python",
   "name": "python",
   "nbconvert_exporter": "python",
   "pygments_lexer": "ipython3",
   "version": "3.7.4"
  }
 },
 "nbformat": 4,
 "nbformat_minor": 2
}
