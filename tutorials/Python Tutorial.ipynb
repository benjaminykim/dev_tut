{
 "cells": [
  {
   "cell_type": "markdown",
   "metadata": {},
   "source": [
    "# Getting Started"
   ]
  },
  {
   "cell_type": "markdown",
   "metadata": {},
   "source": [
    "## Opening your Text Editor from Terminal\n",
    "If you are not using Vim, you can use Atom to open a file with the following command:\n",
    "`open -a \"Atom\" filename`\n",
    "\n",
    "We can also alias this command. Append `alias atom='open -a \"Atom\"` in your `.zshrc` file.\n",
    "\n",
    "Else, use `vim filename`."
   ]
  },
  {
   "cell_type": "markdown",
   "metadata": {},
   "source": [
    "## Learning Resources\n",
    "This notebook assumes that material from this [online guide](https://www.learnpython.org/) from `Learn the Basics` to `Data Science Tutorials`.\n",
    "\n",
    "This [data visualizer](http://pythontutor.com/visualize.html#mode=edit) for Python is a great tool to help understand what is happening under the hood."
   ]
  },
  {
   "cell_type": "code",
   "execution_count": null,
   "metadata": {},
   "outputs": [],
   "source": []
  }
 ],
 "metadata": {
  "kernelspec": {
   "display_name": "Python 3",
   "language": "python",
   "name": "python3"
  },
  "language_info": {
   "codemirror_mode": {
    "name": "ipython",
    "version": 3
   },
   "file_extension": ".py",
   "mimetype": "text/x-python",
   "name": "python",
   "nbconvert_exporter": "python",
   "pygments_lexer": "ipython3",
   "version": "3.7.4"
  }
 },
 "nbformat": 4,
 "nbformat_minor": 2
}
