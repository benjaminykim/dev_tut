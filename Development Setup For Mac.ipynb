{
 "cells": [
  {
   "cell_type": "markdown",
   "metadata": {},
   "source": [
    "# Development Setup For Mac"
   ]
  },
  {
   "cell_type": "markdown",
   "metadata": {},
   "source": [
    "## 1. Terminal - ITERM2\n",
    "* [What is a terminal? How do I use it?](https://askubuntu.com/questions/38162/what-is-a-terminal-and-how-do-i-open-and-use-it)\n",
    "* [iTerm2](https://iterm2.com/features.html) is a replacement for Terminal. It has a ton of features that prove useful in the development or sysadmin environment.\n",
    "* [Comparison of Iterm2 and Terminal](https://medium.com/@xanderdunn/iterm2-vs-terminal-c06976f106ef)\n",
    "* Download [here](https://www.iterm2.com/downloads.html)"
   ]
  },
  {
   "cell_type": "markdown",
   "metadata": {},
   "source": [
    "## 2. Package Management - HOMEBREW\n",
    "* How do I install stuff easily using a terminal? What will manage the packages/libraries/programs that I want on my system?\n",
    ">[Homebrew](https://brew.sh/) is a free and open-source software package management system that simplifies the installation of software on Apple's macOS operating system and Linux. The name is intended to suggest the idea of building software on the Mac depending on the user's taste.\n",
    "* Open Iterm2 and run the command:\n",
    "  * `/usr/bin/ruby -e \"$(curl -fsSL https://raw.githubusercontent.com/Homebrew/install/master/install)\"`"
   ]
  },
  {
   "cell_type": "markdown",
   "metadata": {},
   "source": [
    "## 3. Shell - ZSHELL\n",
    "### 3a. Download Zsh\n",
    "* To understand why you should download Zsh, you should first understand what a shell is and what bash is\n",
    "  >Bash is a command processor that typically runs in a text window where the user types commands that cause actions. Bash can also read and execute commands from a file, called a shell script. Like all Unix shells, it supports filename globbing (wildcard matching), piping, here documents, command substitution, variables, and control structures for condition-testing and iteration. The keywords, syntax, dynamically scoped variables and other basic features of the language are all copied from sh. - [Wikipedia](https://en.wikipedia.org/wiki/Bash_(Unix_shell)?oldformat=true)\n",
    "* [Here](https://www.howtogeek.com/362409/what-is-zsh-and-why-should-you-use-it-instead-of-bash/) is why Zsh proves to be more useful than Bash\n",
    "* Run the command:\n",
    "  * `brew install zsh`\n",
    "\n",
    "### 3b. Download Oh-My-Zsh\n",
    "* Pimp your Zsh with [this](https://github.com/ohmyzsh/ohmyzsh) framework. Inspect their readme for more information/utility\n",
    "* Run the command: \n",
    "  * `sh -c \"$(curl -fsSL https://raw.githubusercontent.com/ohmyzsh/ohmyzsh/master/tools/install.sh)\"`\n",
    "\n",
    "### 3c. Configure Your Shell\n",
    "Most shells by default search for a configuration file in your home directory. \"RC\" stands for [run commands](http://www.catb.org/jargon/html/R/rc-file.html). For instance:\n",
    "* BASH > .bashrc\n",
    "* ZSH > .zshrc\n",
    "\n",
    "So you'll need to create a file named .zshrc in your home directory in order to provide a start up script for your shell to run once you initiate your command line interpreter (CLI = terminal). However, in order to do so we need to know how to create a file, navigate your system, manipulate files/directories(folders), and execute commands all by using your CLI.\n",
    "\n",
    "That can take us down a long tangent that we'll get into in a later notebook. For now, run the command:\n",
    "* `curl https://raw.githubusercontent.com/benjaminykim/dev_tut/master/.zshrc -o .zshrc -s`\n",
    "\n",
    "To verify that it works, quit your Zshell process entirely (CMD + Q) and restart it. Then run the command `ll`. You should see something cool.\n"
   ]
  },
  {
   "cell_type": "markdown",
   "metadata": {},
   "source": [
    "## 4. Text Editor - ATOM\n",
    "We will initially edit text using Atom. It is a very straightforward text editor. Install [here](https://atom.io/)."
   ]
  },
  {
   "cell_type": "markdown",
   "metadata": {},
   "source": [
    "## Big Picture\n",
    "There we have it, a development environment on MacOS that will do quite nicely for the time being. On a linux distribution, we can skip steps 1 and 2 as the default terminal on distributions such as Ubuntu are sufficient, and the installation methods are more straightforward than on MacOS. Here's an overview:\n",
    "1. We've replaced your terminal to something fancier and more productive\n",
    "2. We've installed a program that can easily install/uninstall/upgrade programs on your computer that are important for development\n",
    "3. We've replaced our old shell with something fancier and more productive. We've also given you a bunch of shortcuts that will enable you to execute sysadmin tasks with more ease (.zshrc)\n",
    "4. We've installed a text editor that is easy to use\n",
    "\n",
    "Here's what we haven't done yet\n",
    "1. Install a terminal multiplexer (service that makes terminal more efficient in terms of workflow) (TMUX)\n",
    "2. Install a terminal embedded text editor and configured it for efficiency/plugins (VIM)\n",
    "3. Set up a git workflow\n",
    "\n",
    "***Stop here and move on if time is limited.*** Tmux and Neovim are significant time sinks in learning actual programming. They do provide a lot of functionality and awesomesauce, and are definitely worth the investment. However, if you only have 3-15 days to learn, focusing on theory will prove to be far more beneficial than sinking a lot of time in auxillary technologies that don't deepen computational understanding."
   ]
  },
  {
   "cell_type": "markdown",
   "metadata": {},
   "source": [
    "## 5. Terminal Multiplexer - TMUX\n",
    "### 5a. Introduction\n",
    "Install using `brew install tmux`.\n",
    "\n",
    "Tmux allows users to have multiple 'little terminals' in one main terminal. Formally, it has:\n",
    ">1. Sessions - a process/unit that is running on a system. You can close tmux and have sessions continue to run in the background. This is great for remote installations, AI training, or processes that are time consuming.\n",
    "2. Windows - ideologically identical to a tab in your web browser. A session can have multiple windows and you can navigate between windows.\n",
    "3. Panes - a division in your window/session (your window is your session if you have no other windows open). Divide your window vertically/horizontally in order to help with your workflow.\n",
    "\n",
    "### 5b. Commands\n",
    "Tmux also has something special called a prefix key. This will precede any command specific to tmux. By default, it is `CTRL + B`. I don't like this prefix key and I remap it in my configuration file which is made available to you.\n",
    "\n",
    "For example, if you wanted to split your window vertically in Tmux, you would hit `CTRL + B` + `\"`. To navigate between panes, you would use `<prefix> + o`. To split horizontally, `<prefix> + %`. To kill a pane, `<prefix> + x`.\n",
    "\n",
    "Try it for yourself. Run `tmux` and try to split your window vertically. Here are [shortcuts](https://gist.github.com/MohamedAlaa/2961058) and a [guide](https://www.hamvocke.com/blog/a-quick-and-easy-guide-to-tmux/).\n",
    "\n",
    "Run `exit` when you are done playing with tmux.\n",
    "\n",
    "### 5c. Configure your Tmux\n",
    "I don't like some of the default commands in Tmux. So, I remmapped a bunch of them. I even changed the prefix key from `CTRL + B` to `CTRL + A`. This really only makes a difference if you change `CAPS LOCK` to `CTRL`, which I have done on my Mac (who uses `CAPS LOCK` these days anyway other than to yell at people on basketball forums?). I highly recommend remmapping your `CAPS LOCK` to `CTRL` as it will prove beneficial in VIM.\n",
    "\n",
    "Anyway, Tmux looks for a configuration file in your home directory. It is typically named `.tmux.conf`. If you were wondering what the `.` in front of a file name implies (think `.zshrc`), it suggests that the file is hidden and not available to users who do not know what they are doing. Since you know what you are doing, you can play with hidden files.\n",
    "\n",
    "Run the command:\n",
    "* `curl https://raw.githubusercontent.com/benjaminykim/dev_tut/master/.tmux.conf -o .tmux.conf -s`\n",
    "\n",
    "To see what instructions lie inside of this file, run the command `cat .tmux.conf` in order to peek inside. Read through the output of that command.\n",
    "\n",
    "**here are some .tmux.conf specific commands**\n",
    "\n",
    "|Name|Command|\n",
    "|-----|-----|\n",
    "|prefix|ctrl + a|\n",
    "|horizontal split|prefix + j|\n",
    "|vertical split|prefix + k|\n",
    "|swap pane|prefix + o|\n",
    "|move panes|hold(prefix + o)|\n",
    "|kill pane|prefix + x|\n",
    "|kill window|prefix + &|\n",
    "|resize pane left|prefix + h|\n",
    "|resize pane right|prefix + l|\n",
    "\n"
   ]
  },
  {
   "cell_type": "markdown",
   "metadata": {},
   "source": [
    "## 6. Text Editor - VIM\n",
    "### 6a. Introduction\n",
    "[Vim](https://en.wikipedia.org/wiki/Vim_(text_editor)?oldformat=true) is a text editor that you can use from your command line interface (CLI). Personally, I used Neovim, but Vim will do just fine. I have been using Vim for the last 4 years. I'll spend about 15 minutes a month learning/reinforcing a feature in Vim that improves my efficiency. I thought that the first 6 weeks using it were absolutely painful. Vi is typically preinstalled in most Unix systems."
   ]
  },
  {
   "cell_type": "markdown",
   "metadata": {},
   "source": []
  },
  {
   "cell_type": "markdown",
   "metadata": {},
   "source": []
  }
 ],
 "metadata": {
  "kernelspec": {
   "display_name": "Python 3",
   "language": "python",
   "name": "python3"
  },
  "language_info": {
   "codemirror_mode": {
    "name": "ipython",
    "version": 3
   },
   "file_extension": ".py",
   "mimetype": "text/x-python",
   "name": "python",
   "nbconvert_exporter": "python",
   "pygments_lexer": "ipython3",
   "version": "3.7.4"
  }
 },
 "nbformat": 4,
 "nbformat_minor": 2
}
