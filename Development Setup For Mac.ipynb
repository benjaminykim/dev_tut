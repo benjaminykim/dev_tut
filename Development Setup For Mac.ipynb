{
 "cells": [
  {
   "cell_type": "markdown",
   "metadata": {},
   "source": [
    "# Development Setup For Mac"
   ]
  },
  {
   "cell_type": "markdown",
   "metadata": {},
   "source": [
    "## 1. Download Iterm2\n",
    "* iTerm2 is a replacement for Terminal. It has a ton of features that prove useful in the development or sysadmin environment. Find more information [here](https://iterm2.com/features.html)\n",
    "* [Comparison of Iterm2 and Terminal](https://medium.com/@xanderdunn/iterm2-vs-terminal-c06976f106ef)\n",
    "* Download [here](https://www.iterm2.com/downloads.html)"
   ]
  },
  {
   "cell_type": "markdown",
   "metadata": {},
   "source": [
    "## 2. Download Homebrew\n",
    "* Homebrew is a free and open-source software package management system that simplifies the installation of software on Apple's macOS operating system and Linux. The name is intended to suggest the idea of building software on the Mac depending on the user's taste. More information [here](https://brew.sh/)\n",
    "* Installation steps\n",
    "  * Open iterm2\n",
    "  * Run the command `/usr/bin/ruby -e \"$(curl -fsSL https://raw.githubusercontent.com/Homebrew/install/master/install)\"`"
   ]
  },
  {
   "cell_type": "markdown",
   "metadata": {},
   "source": [
    "## 3. Shell\n",
    "### 3a. Download Zsh\n",
    "* To understand why you should download Zsh, you should first understand what a shell is and what bash is\n",
    "  * Bash is a command processor that typically runs in a text window where the user types commands that cause actions. Bash can also read and execute commands from a file, called a shell script. Like all Unix shells, it supports filename globbing (wildcard matching), piping, here documents, command substitution, variables, and control structures for condition-testing and iteration. The keywords, syntax, dynamically scoped variables and other basic features of the language are all copied from sh. - [Wikipedia](https://en.wikipedia.org/wiki/Bash_(Unix_shell)?oldformat=true)\n",
    "* [Here](https://www.howtogeek.com/362409/what-is-zsh-and-why-should-you-use-it-instead-of-bash/) is why Zsh proves to be more useful than Bash\n",
    "* Run `brew install zsh`\n",
    "\n",
    "### 3b. Download Oh-My-Zsh\n",
    "* Pimp your Zsh with [this](https://github.com/ohmyzsh/ohmyzsh) framework. Inspect their readme for more information/utility\n",
    "* Run `sh -c \"$(curl -fsSL https://raw.githubusercontent.com/ohmyzsh/ohmyzsh/master/tools/install.sh)\"`\n",
    "\n",
    "### 3c. Configure Your Shell\n",
    "Most shells by default search for a configuration file in your home directory. \"RC\" stands for [run commands](http://www.catb.org/jargon/html/R/rc-file.html). For instance:\n",
    "* BASH > .bashrc\n",
    "* ZSH > .zshrc\n",
    "\n",
    "So you'll need to create a file named .zshrc in your home directory in order to provide a start up script for your shell to run once you initiate your command line interpreter (CLI = terminal). However, in order to do so we need to know how to create a file, navigate your system, manipulate files/directories(folders), and execute commands all by using your CLI.\n",
    "\n",
    "That can take us down a long tangent that I'll get into in a later notebook. For now, download \n"
   ]
  },
  {
   "cell_type": "markdown",
   "metadata": {},
   "source": []
  },
  {
   "cell_type": "markdown",
   "metadata": {},
   "source": []
  },
  {
   "cell_type": "markdown",
   "metadata": {},
   "source": []
  },
  {
   "cell_type": "markdown",
   "metadata": {},
   "source": []
  },
  {
   "cell_type": "markdown",
   "metadata": {},
   "source": []
  }
 ],
 "metadata": {
  "kernelspec": {
   "display_name": "Python 3",
   "language": "python",
   "name": "python3"
  },
  "language_info": {
   "codemirror_mode": {
    "name": "ipython",
    "version": 3
   },
   "file_extension": ".py",
   "mimetype": "text/x-python",
   "name": "python",
   "nbconvert_exporter": "python",
   "pygments_lexer": "ipython3",
   "version": "3.7.4"
  }
 },
 "nbformat": 4,
 "nbformat_minor": 2
}
