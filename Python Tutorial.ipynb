{
 "cells": [
  {
   "cell_type": "markdown",
   "metadata": {},
   "source": [
    "# File Structure\n",
    "\n",
    "Before we begin programming, let's create a reasonable file structure for our Python learning modules.\n",
    "\n",
    "* Home Directory\n",
    "  * code\n",
    "    * ex00\n",
    "    * ex01\n",
    "    * ex02\n",
    "    * ..\n",
    "    \n",
    "* Let's create a directory named `code` in our home directory `mkdir code`\n",
    "* Let's create a subdirectory inside `code` called `ex00`. Run `cd code` and `mkdir ex00`. Or, you can run `mkdir code/ex00` \n",
    "* Create multiple directories by using `mkdir ex00 ex01 ex02`\n",
    "\n",
    "Training wheels are off now."
   ]
  },
  {
   "cell_type": "markdown",
   "metadata": {},
   "source": [
    "# Opening your Text Editor from Terminal\n",
    "If you are not using Vim, you can use Atom to open a file with the following command:\n",
    "`open -a \"Atom\" filename`\n",
    "\n",
    "Else, use `vim filename`."
   ]
  }
 ],
 "metadata": {
  "kernelspec": {
   "display_name": "Python 3",
   "language": "python",
   "name": "python3"
  },
  "language_info": {
   "codemirror_mode": {
    "name": "ipython",
    "version": 3
   },
   "file_extension": ".py",
   "mimetype": "text/x-python",
   "name": "python",
   "nbconvert_exporter": "python",
   "pygments_lexer": "ipython3",
   "version": "3.7.4"
  }
 },
 "nbformat": 4,
 "nbformat_minor": 2
}
