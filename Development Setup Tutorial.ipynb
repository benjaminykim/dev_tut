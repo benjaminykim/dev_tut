{
 "cells": [
  {
   "cell_type": "markdown",
   "metadata": {},
   "source": [
    "# Development Setup Tutorial"
   ]
  },
  {
   "cell_type": "markdown",
   "metadata": {},
   "source": [
    "Skip 1/2 for Linux Distribution Operating systems. If you are on Windows, download a virtual machine (virtualbox) and boot a Linux Distribution on the machine. These tutorials are designed for MacOS."
   ]
  },
  {
   "cell_type": "markdown",
   "metadata": {},
   "source": [
    "## Table of Contents\n",
    "1. Terminal\n",
    "2. Package Management\n",
    "3. Shell\n",
    "4. Text Editor\n",
    "5. Jupyter Notebook\n",
    "6. Git\n",
    "\n",
    "Additional Materials\n",
    "1. Terminal Multiplexer\n",
    "2. Text Editor - Vim"
   ]
  },
  {
   "cell_type": "markdown",
   "metadata": {},
   "source": [
    "## 1. Terminal - ITERM2\n",
    "* [What is a terminal? How do I use it?](https://askubuntu.com/questions/38162/what-is-a-terminal-and-how-do-i-open-and-use-it)\n",
    "* [iTerm2](https://iterm2.com/features.html) is a replacement for Terminal. It has a ton of features that prove useful in the development or sysadmin environment.\n",
    "* [Comparison of Iterm2 and Terminal](https://medium.com/@xanderdunn/iterm2-vs-terminal-c06976f106ef)\n",
    "* Download [here](https://www.iterm2.com/downloads.html)"
   ]
  },
  {
   "cell_type": "markdown",
   "metadata": {},
   "source": [
    "## 2. Package Management - HOMEBREW\n",
    "* How do I install stuff easily using a terminal? What will manage the packages/libraries/programs that I want on my system?\n",
    ">[Homebrew](https://brew.sh/) is a free and open-source software package management system that simplifies the installation of software on Apple's macOS operating system and Linux. The name is intended to suggest the idea of building software on the Mac depending on the user's taste.\n",
    "* Open Iterm2 and run the command:\n",
    "  * `/usr/bin/ruby -e \"$(curl -fsSL https://raw.githubusercontent.com/Homebrew/install/master/install)\"`"
   ]
  },
  {
   "cell_type": "markdown",
   "metadata": {},
   "source": [
    "## 3. Shell - ZSHELL\n",
    "### 3a. Download Zsh\n",
    "* To understand why you should download Zsh, you should first understand what a shell is and what bash is\n",
    "  >Bash is a command processor that typically runs in a text window where the user types commands that cause actions. Bash can also read and execute commands from a file, called a shell script. Like all Unix shells, it supports filename globbing (wildcard matching), piping, here documents, command substitution, variables, and control structures for condition-testing and iteration. The keywords, syntax, dynamically scoped variables and other basic features of the language are all copied from sh. - [Wikipedia](https://en.wikipedia.org/wiki/Bash_(Unix_shell)?oldformat=true)\n",
    "* [Here](https://www.howtogeek.com/362409/what-is-zsh-and-why-should-you-use-it-instead-of-bash/) is why Zsh proves to be more useful than Bash\n",
    "* Run the command:\n",
    "  * `brew install zsh`\n",
    "\n",
    "### 3b. Download Oh-My-Zsh\n",
    "* Pimp your Zsh with [this](https://github.com/ohmyzsh/ohmyzsh) framework. Inspect their readme for more information/utility\n",
    "* Run the command: \n",
    "  * `sh -c \"$(curl -fsSL https://raw.githubusercontent.com/ohmyzsh/ohmyzsh/master/tools/install.sh)\"`\n",
    "\n",
    "### 3c. Configure Your Shell\n",
    "Most shells by default search for a configuration file in your home directory. \"RC\" stands for [run commands](http://www.catb.org/jargon/html/R/rc-file.html). For instance:\n",
    "* BASH > .bashrc\n",
    "* ZSH > .zshrc\n",
    "\n",
    "So you'll need to create a file named .zshrc in your home directory in order to provide a start up script for your shell to run once you initiate your command line interpreter (CLI = terminal). However, in order to do so we need to know how to create a file, navigate your system, manipulate files/directories(folders), and execute commands all by using your CLI.\n",
    "\n",
    "That can take us down a long tangent that we'll get into in a later notebook. For now, run the command:\n",
    "* `curl https://raw.githubusercontent.com/benjaminykim/dev_tut/master/.zshrc -o .zshrc -s`\n",
    "\n",
    "To verify that it works, quit your Zshell process entirely (CMD + Q) and restart it. Then run the command `ll`. You should see something cool.\n",
    "\n",
    " ***(Veteran Freebie)***\n"
   ]
  },
  {
   "cell_type": "markdown",
   "metadata": {},
   "source": [
    "## 4. Text Editor - ATOM\n",
    "We will initially edit text using Atom. It is a very straightforward text editor. Install [here](https://atom.io/)."
   ]
  },
  {
   "cell_type": "markdown",
   "metadata": {},
   "source": [
    "# 5. Python Web Interpreter - JUPYTER NOTEBOOK\n",
    "## 5a. Anaconda\n",
    "Jupyter Notebook is a data science tool for creating interactive, visual code stories. It is used for data visualization, code sharing, education, and data science purposes. The best long term way to use Jupyter Notebook is through the package manager and data science platform [Anaconda](https://www.anaconda.com/why-anaconda/). There is extensive utility in using Conda, and I recommend it if one's primary use for programming is for data science -especially more so if Python or R are the only languages necessary to the user. Conda handles library installation and version control. This allows users to quickly switch in between different versions of donwloaded packages, as data science or machine learning projects can require libraries of different versions (Tensorflow 1.14/2.0, Python 2.7/3+, or Numpy). If you choose Conda to handle your package management, follow the instructions on the link provided. ***(Veteran Freebie)***\n",
    "\n",
    "## 5b. Virtualenv\n",
    "The alternative to using Conda is to download Jupyter Notebook via python's pip3 tool. This is not a hassle; it is as easy as running the commands:\n",
    ">`python3 -m pip install --upgrade pip`<br>\n",
    "`python3 -m pip install jupyter`\n",
    "\n",
    "To alternate between different library versions in this method, virtualenv is required.\n",
    "\n",
    "\n",
    "## 5c. Overview\n",
    "[Read about why Conda is superior to virtualenv](https://stackoverflow.com/questions/34398676/does-conda-replace-the-need-for-virtualenv). [Here is an example of how to use virtualenv, conda and pipenv](https://medium.com/@krishnaregmi/pipenv-vs-virtualenv-vs-conda-environment-3dde3f6869ed).\n",
    "\n",
    "For the purposes of these notebooks, virtualenv is sufficient. You may assume that we are using Python 3+ and that all libraries are up to date. If they are not, we will list the version of the packages used."
   ]
  },
  {
   "cell_type": "markdown",
   "metadata": {},
   "source": [
    "## 6. Git - GitHub\n",
    "### 6a. Introduction\n",
    "Git is a version control management system. It is a system that manages what version of your files you currently have. You can save work, roll back changes, combine work done by disparate individuals, and deploy projects using Git. It's incredibly powerful and useful for collaboration, personal branding, education, and industry. There will be a separate module just for Git at a later date.\n",
    "### 6b. Configuration\n",
    "For now:\n",
    "* create an account on [Github](https://github.com/)\n",
    "* run `git clone https://github.com/benjaminykim/dev_tut.git`\n",
    "\n",
    "You have just downloaded the files on this repository onto your server. This is where I was storing the configuration files for Zsh and more. This is also where this .README is hosted.\n",
    "\n",
    "### Integration:\n",
    "Now, in your home directory, run the command:\n",
    ">`jupyter notebook`\n",
    "\n",
    "Something happens!\n",
    "\n",
    "We can see in your web browser a file system that should include `dev_tut` as a directory (folder). Alas."
   ]
  },
  {
   "cell_type": "markdown",
   "metadata": {},
   "source": [
    "## Big Picture\n",
    "There we have it, a development environment on MacOS that will do quite nicely for the time being. On a linux distribution, we can skip steps 1 and 2 as the default terminal on distributions such as Ubuntu are sufficient, and the installation methods are more straightforward than on MacOS. Here's an overview:\n",
    "1. We've replaced your terminal to something fancier and more productive\n",
    "2. We've installed a program that can easily install/uninstall/upgrade programs on your computer that are important for development\n",
    "3. We've replaced our old shell with something fancier and more productive. We've also given you a bunch of shortcuts that will enable you to execute sysadmin tasks with more ease (.zshrc)\n",
    "4. We've installed a text editor that is easy to use\n",
    "\n",
    "Here's what we haven't done yet\n",
    "1. Install a terminal multiplexer (service that makes terminal more efficient in terms of workflow) (TMUX)\n",
    "2. Install a terminal embedded text editor and configured it for efficiency/plugins (VIM)\n",
    "\n",
    "***Stop here and move on if time is limited.*** Tmux and Neovim are significant time sinks in learning actual programming. They do provide a lot of functionality and awesomesauce, and are definitely worth the investment. However, if you only have 3-15 days to learn, focusing on theory will prove to be far more beneficial than sinking a lot of time in auxillary technologies that don't deepen computational understanding."
   ]
  },
  {
   "cell_type": "markdown",
   "metadata": {},
   "source": [
    "# Advanced Development Setup (Optional)"
   ]
  },
  {
   "cell_type": "markdown",
   "metadata": {},
   "source": [
    "## 5. Terminal Multiplexer - TMUX\n",
    "### 5a. Introduction\n",
    "Install using `brew install tmux`.\n",
    "\n",
    "Tmux allows users to have multiple 'little terminals' in one main terminal. Formally, it has:\n",
    ">1. Sessions - a process/unit that is running on a system. You can close tmux and have sessions continue to run in the background. This is great for remote installations, AI training, or processes that are time consuming.\n",
    "2. Windows - ideologically identical to a tab in your web browser. A session can have multiple windows and you can navigate between windows.\n",
    "3. Panes - a division in your window/session (your window is your session if you have no other windows open). Divide your window vertically/horizontally in order to help with your workflow.\n",
    "\n",
    "### 5b. Commands\n",
    "Tmux also has something special called a prefix key. This will precede any command specific to tmux. By default, it is `CTRL + B`. I don't like this prefix key and I remap it in my configuration file which is made available to you.\n",
    "\n",
    "For example, if you wanted to split your window vertically in Tmux, you would hit `CTRL + B` + `\"`. To navigate between panes, you would use `<prefix> + o`. To split horizontally, `<prefix> + %`. To kill a pane, `<prefix> + x`.\n",
    "\n",
    "Try it for yourself. Run `tmux` and try to split your window vertically. Here are [shortcuts](https://gist.github.com/MohamedAlaa/2961058) and a [guide](https://www.hamvocke.com/blog/a-quick-and-easy-guide-to-tmux/).\n",
    "\n",
    "Run `exit` when you are done playing with tmux.\n",
    "\n",
    "### 5c. Configure your Tmux\n",
    "I don't like some of the default commands in Tmux. So, I remmapped a bunch of them. I even changed the prefix key from `CTRL + B` to `CTRL + A`. This really only makes a difference if you change `CAPS LOCK` to `CTRL`, which I have done on my Mac (who uses `CAPS LOCK` these days anyway other than to yell at people on basketball forums?). I highly recommend remmapping your `CAPS LOCK` to `CTRL` as it will prove beneficial in VIM.\n",
    "\n",
    "Anyway, Tmux looks for a configuration file in your home directory. It is typically named `.tmux.conf`. If you were wondering what the `.` in front of a file name implies (think `.zshrc`), it suggests that the file is hidden and not available to users who do not know what they are doing. Since you know what you are doing, you can play with hidden files.\n",
    "\n",
    "Run the command:\n",
    "* `curl https://raw.githubusercontent.com/benjaminykim/dev_tut/master/.tmux.conf -o .tmux.conf -s`\n",
    "\n",
    "To see what instructions lie inside of this file, run the command `cat .tmux.conf` in order to peek inside. Read through the output of that command.\n",
    "\n",
    "**here are some .tmux.conf specific commands**\n",
    "\n",
    "|Name|Command|\n",
    "|-----|-----|\n",
    "|prefix|ctrl + a|\n",
    "|horizontal split|prefix + j|\n",
    "|vertical split|prefix + k|\n",
    "|swap pane|prefix + o|\n",
    "|move panes|hold(prefix + o)|\n",
    "|kill pane|prefix + x|\n",
    "|kill window|prefix + &|\n",
    "|resize pane left|prefix + h|\n",
    "|resize pane right|prefix + l|\n",
    "\n",
    " ***(Veteran Freebie)***"
   ]
  },
  {
   "cell_type": "markdown",
   "metadata": {},
   "source": [
    "## 6. Text Editor - VIM\n",
    "### 6a. Introduction\n",
    "[Vim](https://en.wikipedia.org/wiki/Vim_(text_editor)?oldformat=true) is a text editor used in the command line interface (CLI). ***Vi*** is typically preinstalled in most Unix systems.\n",
    "\n",
    "To start up Vim, run the command `vim myFirstFile.txt`. You have now entered Vim's development environment.\n",
    "\n",
    "Vim is good for quick script writing and fast development. If you need a debugger something more hefty is preferable. For our purposes, Vim/Atom and Jupyter Notebook are more than sufficient. Choose Atom for a 20X smaller learning curve.\n",
    "\n",
    "#### Vim Modes (N, I, V)\n",
    "The default user mode is `Normal`. The others are `Insert` and `Visual`. For our notebooks only normal `N` and insert `I` are necessary. You can run commands in `N` normal and write text in `I` insert modes.\n",
    "\n",
    "* Enter `i` in the keyboard and observe the change from `N` to `I` modes.\n",
    "* You may now enter text. \n",
    "* Enter `My first file`\n",
    "\n",
    "#### Save and Exit your File (Write and Quit)\n",
    "\n",
    "Now we will save the file. In order to save, we must be in `N` normal mode.\n",
    "\n",
    "* Enter `<ESC>` and observe the change from insert to normal mode.\n",
    "* Now you may run commands in Vim.\n",
    "* Now you may save your file.\n",
    "* Enter `:w` and hit enter.\n",
    "* Enter `:q` and hit enter.\n",
    "\n",
    "`w` command will write your file (save). `q` command will quit Vim (exit). You may save and exit by `:wq`.\n",
    "\n",
    "#### Integration:\n",
    "Enter your file again using `vim`. Add some more text to the file, save and exit. Now print the contents of the file to standard output. In module `5.c Configure Your Tmux` we introduce a command that can accomplish this task for you."
   ]
  },
  {
   "cell_type": "markdown",
   "metadata": {},
   "source": [
    "### 6b. Commands\n",
    "Navigating in Vim is challenging but rewarding. Never use the arrow keys to navigate inside your Vim environment. Instead use `h` `j` `k` `l` as Left, Down, Up, Right. I use mnemonic devices `J goes DOWNtown` and `Kite Up` for vertical navigation and the spatial relation of `h` and `l` for horizontal. ***Never use your arrow keys***.\n",
    "\n",
    "To go one word forward, use `w`; one word back, use `b`. To go x words foward/back, enter the number `x` and `w`/`b`.\n",
    "To go x lines up/down, enter the number and `k`/`j`.\n",
    "\n",
    "Use `Shift + G` for bottom of file, `g + g` for top of file. Shift bottom g-g up.\n",
    "\n",
    "Enter a valid line number and use `Shift + G` to move to that line. ***Veteran Freebie***\n",
    "\n",
    "Use `0` zero to go to the beginning of a line. Use `$` to go to the end. They are opposite spatially on the keyboard to how they move the cursor inline in Vim.\n",
    "\n",
    "#### Deletion\n",
    "These all stay in normal mode unless specified otherwise.\n",
    "* `x` deletes a character.\n",
    "* `d` deletes from where the cursor is until where it ends after navigation (use `d1w` to delete until the beginning of the next word, `d2j` to delete two lines down, `d + Shift + g` to delete until the bottom of the file`).\n",
    "* `d + d` deletes the current line.\n",
    "* `s` deletes the current character and enters `I` mode.\n",
    "\n",
    "#### Insertion\n",
    "These all enter insert mode\n",
    "* `o` creates a new line below and enters insert mode, moving cursor along\n",
    "* `O` creates a new line above and enters insert mode, moving cursor along\n",
    "* `a` enters insert mode one character after the cursor\n",
    "\n",
    "#### Copy\n",
    "* `y` copies text from current position until navigation end\n",
    "* `y + y` copies the current line\n",
    "* `p` pastes\n",
    "\n",
    "#### Search\n",
    "* In `N` mode, enter `/` and enter your search word\n",
    "* You may navigate through the matches using `n` and `p`.\n",
    "* You may cancel highlights by entering command `:noh` (no highlight)\n",
    "\n",
    "#### Alternative Save and Exit\n",
    "Use `Shift + Z + Z` to write and quite your file. If there are no changes, it will not override the write (subtle difference, creates efficiency for large files and updating as you won't need to reupload a file to a remote database just because you wanted to inspect it in Vim).\n",
    "\n",
    "This is an extremely thorough beginners look at Vim, but it will open doors for 95% of typical usecase in the editor. However, this is not a comprehensive capture of Vim. There is so much more one can do..."
   ]
  },
  {
   "cell_type": "markdown",
   "metadata": {},
   "source": [
    "### 6c. Configure your Vim\n"
   ]
  }
 ],
 "metadata": {
  "kernelspec": {
   "display_name": "Python 3",
   "language": "python",
   "name": "python3"
  },
  "language_info": {
   "codemirror_mode": {
    "name": "ipython",
    "version": 3
   },
   "file_extension": ".py",
   "mimetype": "text/x-python",
   "name": "python",
   "nbconvert_exporter": "python",
   "pygments_lexer": "ipython3",
   "version": "3.7.4"
  }
 },
 "nbformat": 4,
 "nbformat_minor": 2
}
